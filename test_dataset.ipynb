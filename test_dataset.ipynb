{
 "cells": [
  {
   "cell_type": "code",
   "execution_count": 1,
   "metadata": {
    "collapsed": true
   },
   "outputs": [],
   "source": [
    "from dataset import Dataset\n",
    "ds = Dataset()"
   ]
  },
  {
   "cell_type": "code",
   "execution_count": 2,
   "outputs": [],
   "source": [
    "ds.read_csv(\"notas.csv\")"
   ],
   "metadata": {
    "collapsed": false
   }
  },
  {
   "cell_type": "code",
   "execution_count": 3,
   "outputs": [
    {
     "name": "stdout",
     "output_type": "stream",
     "text": [
      "Nome\n",
      " -Number of unique values:  10\n",
      " -Most frequent value:  Carina\n",
      "Laboratórios\n",
      " -Number of unique values:  7\n",
      " -Most frequent value:  16\n",
      "Alg_Avançados\n",
      " -Number of unique values:  6\n",
      " -Most frequent value:  15\n",
      "Biologia_Sistemas\n",
      " -Mean:  14.0\n",
      " -Median:  15.5\n",
      " -Standard Deviation:  5.7446\n",
      " -Minimum:  -1\n",
      " -Maximum:  20\n"
     ]
    }
   ],
   "source": [
    "ds.describe()"
   ],
   "metadata": {
    "collapsed": false
   }
  },
  {
   "cell_type": "code",
   "execution_count": 3,
   "outputs": [],
   "source": [],
   "metadata": {
    "collapsed": false
   }
  }
 ],
 "metadata": {
  "kernelspec": {
   "display_name": "Python 3",
   "language": "python",
   "name": "python3"
  },
  "language_info": {
   "codemirror_mode": {
    "name": "ipython",
    "version": 2
   },
   "file_extension": ".py",
   "mimetype": "text/x-python",
   "name": "python",
   "nbconvert_exporter": "python",
   "pygments_lexer": "ipython2",
   "version": "2.7.6"
  }
 },
 "nbformat": 4,
 "nbformat_minor": 0
}
