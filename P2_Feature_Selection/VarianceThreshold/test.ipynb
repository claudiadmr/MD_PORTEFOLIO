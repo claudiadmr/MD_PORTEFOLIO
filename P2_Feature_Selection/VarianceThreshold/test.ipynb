{
 "cells": [
  {
   "cell_type": "code",
   "execution_count": 2,
   "metadata": {},
   "outputs": [],
   "source": [
    "from VarianceThreshold import VarianceThreshold\n",
    "import numpy as np"
   ]
  },
  {
   "cell_type": "code",
   "execution_count": 15,
   "metadata": {},
   "outputs": [],
   "source": [
    "# Create a toy array\n",
    "X = np.array([[1, 2, 1, 3],\n",
    "                  [5, 1, 4, 3],\n",
    "                  [0, 1, 1, 3]])"
   ]
  },
  {
   "cell_type": "code",
   "execution_count": 23,
   "metadata": {},
   "outputs": [
    {
     "name": "stdout",
     "output_type": "stream",
     "text": [
      "variance does not meet the threshold in:\n",
      "[[1 2 1]\n",
      " [5 1 4]\n",
      " [0 1 1]]\n"
     ]
    }
   ],
   "source": [
    "# Create a VarianceThreshold object\n",
    "selector = VarianceThreshold(threshold= 0)\n",
    "\n",
    "# Fit the selector to the data\n",
    "selector.fit_transform(X)"
   ]
  }
 ],
 "metadata": {
  "kernelspec": {
   "display_name": "Python 3",
   "language": "python",
   "name": "python3"
  },
  "language_info": {
   "codemirror_mode": {
    "name": "ipython",
    "version": 3
   },
   "file_extension": ".py",
   "mimetype": "text/x-python",
   "name": "python",
   "nbconvert_exporter": "python",
   "pygments_lexer": "ipython3",
   "version": "3.11.0"
  },
  "orig_nbformat": 4
 },
 "nbformat": 4,
 "nbformat_minor": 2
}
