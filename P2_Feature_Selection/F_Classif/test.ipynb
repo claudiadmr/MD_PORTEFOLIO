{
 "cells": [
  {
   "cell_type": "code",
   "execution_count": 9,
   "metadata": {},
   "outputs": [],
   "source": [
    "from f_classif import f_classif\n",
    "import numpy as np\n"
   ]
  },
  {
   "cell_type": "code",
   "execution_count": 10,
   "metadata": {},
   "outputs": [],
   "source": [
    "# Create a toy dataset with 3 features and 4 samples\n",
    "X = np.array([[1, 2, 3], [4, 5, 6], [7, 8, 9], [10, 11, 12]])\n",
    "y = np.array([0, 0, 1, 1])\n",
    "class Dataset:\n",
    "    def __init__(self, X, y):\n",
    "        self.X = X\n",
    "        self.y = y\n",
    "\n",
    "dataset = Dataset(X, y)\n"
   ]
  },
  {
   "cell_type": "code",
   "execution_count": 11,
   "metadata": {},
   "outputs": [
    {
     "name": "stdout",
     "output_type": "stream",
     "text": [
      "F-scores: [8.0, 8.0, 8.0]\n",
      "p-values: [0.10557280900008414, 0.10557280900008414, 0.10557280900008414]\n"
     ]
    }
   ],
   "source": [
    "# Call the f_classif function\n",
    "F_scores, p_values = f_classif(dataset)\n",
    "\n",
    "# Print the F-scores and p-values\n",
    "print(\"F-scores:\", F_scores)\n",
    "print(\"p-values:\", p_values)"
   ]
  }
 ],
 "metadata": {
  "kernelspec": {
   "display_name": "Python 3",
   "language": "python",
   "name": "python3"
  },
  "language_info": {
   "codemirror_mode": {
    "name": "ipython",
    "version": 3
   },
   "file_extension": ".py",
   "mimetype": "text/x-python",
   "name": "python",
   "nbconvert_exporter": "python",
   "pygments_lexer": "ipython3",
   "version": "3.11.0"
  },
  "orig_nbformat": 4
 },
 "nbformat": 4,
 "nbformat_minor": 2
}
