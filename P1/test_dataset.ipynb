{
 "cells": [
  {
   "cell_type": "code",
   "execution_count": 1,
   "metadata": {
    "collapsed": true
   },
   "outputs": [],
   "source": [
    "from dataset import Dataset\n",
    "ds = Dataset()"
   ]
  },
  {
   "cell_type": "code",
   "execution_count": 2,
   "outputs": [],
   "source": [
    "ds.read_csv(\"wine.csv\")"
   ],
   "metadata": {
    "collapsed": false
   }
  },
  {
   "cell_type": "code",
   "execution_count": 3,
   "outputs": [
    {
     "name": "stdout",
     "output_type": "stream",
     "text": [
      "Alcohol\n",
      " -Mean:  13.00061797752809\n",
      " -Median:  13.05\n",
      " -Standard Deviation:  0.8095\n",
      " -Minimum:  11.03\n",
      " -Maximum:  14.83\n",
      "Malic_acid\n",
      " -Mean:  2.3363483146067416\n",
      " -Median:  1.8650000000000002\n",
      " -Standard Deviation:  1.1140\n",
      " -Minimum:  0.74\n",
      " -Maximum:  5.8\n",
      "Ash\n",
      " -Mean:  2.3665168539325845\n",
      " -Median:  2.36\n",
      " -Standard Deviation:  0.2736\n",
      " -Minimum:  1.36\n",
      " -Maximum:  3.23\n",
      "Alcalinity_of_ash\n",
      " -Mean:  19.49494382022472\n",
      " -Median:  19.5\n",
      " -Standard Deviation:  3.3302\n",
      " -Minimum:  10.6\n",
      " -Maximum:  30.0\n",
      "Magnesium\n",
      " -Mean:  99.74157303370787\n",
      " -Median:  98.0\n",
      " -Standard Deviation:  14.2423\n",
      " -Minimum:  70.0\n",
      " -Maximum:  162.0\n",
      "Total_phenols\n",
      " -Mean:  2.295112359550562\n",
      " -Median:  2.355\n",
      " -Standard Deviation:  0.6241\n",
      " -Minimum:  0.98\n",
      " -Maximum:  3.88\n",
      "Flavanoids\n",
      " -Mean:  2.0292696629213487\n",
      " -Median:  2.135\n",
      " -Standard Deviation:  0.9960\n",
      " -Minimum:  0.34\n",
      " -Maximum:  5.08\n",
      "Nonflavanoid_phenols\n",
      " -Mean:  0.3618539325842696\n",
      " -Median:  0.34\n",
      " -Standard Deviation:  0.1241\n",
      " -Minimum:  0.13\n",
      " -Maximum:  0.66\n",
      "Proanthocyanins\n",
      " -Mean:  1.5908988764044945\n",
      " -Median:  1.5550000000000002\n",
      " -Standard Deviation:  0.5707\n",
      " -Minimum:  0.41\n",
      " -Maximum:  3.58\n",
      "Color_intensity\n",
      " -Mean:  5.058089882022472\n",
      " -Median:  4.6899999999999995\n",
      " -Standard Deviation:  2.3118\n",
      " -Minimum:  1.28\n",
      " -Maximum:  13.0\n",
      "Hue\n",
      " -Mean:  0.9574494382022471\n",
      " -Median:  0.965\n",
      " -Standard Deviation:  0.2279\n",
      " -Minimum:  0.48\n",
      " -Maximum:  1.71\n",
      "OD280OD315_of_diluted_wines\n",
      " -Mean:  2.6116853932584267\n",
      " -Median:  2.78\n",
      " -Standard Deviation:  0.7080\n",
      " -Minimum:  1.27\n",
      " -Maximum:  4.0\n",
      "Proline\n",
      " -Mean:  746.8932584269663\n",
      " -Median:  673.5\n",
      " -Standard Deviation:  314.0217\n",
      " -Minimum:  278.0\n",
      " -Maximum:  1680.0\n",
      "Class\n",
      " -Number of unique values:  3\n",
      " -Most frequent value:  two\n"
     ]
    }
   ],
   "source": [
    "ds.describe()"
   ],
   "metadata": {
    "collapsed": false
   }
  },
  {
   "cell_type": "code",
   "execution_count": 4,
   "outputs": [
    {
     "name": "stderr",
     "output_type": "stream",
     "text": [
      "/Users/cdmr/Desktop/univercidade/1ano/2semestre/MD/1aula/dataset.py:68: FutureWarning: elementwise comparison failed; returning scalar instead, but in the future will perform elementwise comparison\n",
      "  self.y = np.where(self.y == value, np.nan, self.y)\n"
     ]
    }
   ],
   "source": [
    "ds.replace_to_null(1.73)"
   ],
   "metadata": {
    "collapsed": false
   }
  },
  {
   "cell_type": "code",
   "execution_count": 5,
   "outputs": [
    {
     "name": "stdout",
     "output_type": "stream",
     "text": [
      "Alcohol - Null Values: 0\n",
      "Malic_acid - Null Values: 7\n",
      "Ash - Null Values: 0\n",
      "Alcalinity_of_ash - Null Values: 0\n",
      "Magnesium - Null Values: 0\n",
      "Total_phenols - Null Values: 0\n",
      "Flavanoids - Null Values: 0\n",
      "Nonflavanoid_phenols - Null Values: 0\n",
      "Proanthocyanins - Null Values: 0\n",
      "Color_intensity - Null Values: 0\n",
      "Hue - Null Values: 0\n",
      "OD280OD315_of_diluted_wines - Null Values: 1\n",
      "Proline - Null Values: 0\n"
     ]
    }
   ],
   "source": [
    "ds.count_nulls()"
   ],
   "metadata": {
    "collapsed": false
   }
  },
  {
   "cell_type": "code",
   "execution_count": 6,
   "outputs": [],
   "source": [
    "ds.replace_nulls_with_mean()"
   ],
   "metadata": {
    "collapsed": false
   }
  }
 ],
 "metadata": {
  "kernelspec": {
   "display_name": "Python 3",
   "language": "python",
   "name": "python3"
  },
  "language_info": {
   "codemirror_mode": {
    "name": "ipython",
    "version": 2
   },
   "file_extension": ".py",
   "mimetype": "text/x-python",
   "name": "python",
   "nbconvert_exporter": "python",
   "pygments_lexer": "ipython2",
   "version": "2.7.6"
  }
 },
 "nbformat": 4,
 "nbformat_minor": 0
}
